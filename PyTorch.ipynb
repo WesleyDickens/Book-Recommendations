{
 "cells": [
  {
   "cell_type": "code",
   "execution_count": 1,
   "id": "1f218d55",
   "metadata": {},
   "outputs": [
    {
     "name": "stdout",
     "output_type": "stream",
     "text": [
      "<class 'pandas.core.frame.DataFrame'>\n",
      "RangeIndex: 3000000 entries, 0 to 2999999\n",
      "Data columns (total 10 columns):\n",
      " #   Column              Non-Null Count    Dtype  \n",
      "---  ------              --------------    -----  \n",
      " 0   Id                  3000000 non-null  object \n",
      " 1   Title               2999792 non-null  object \n",
      " 2   Price               481171 non-null   float64\n",
      " 3   User_id             2438213 non-null  object \n",
      " 4   profileName         2438095 non-null  object \n",
      " 5   review/helpfulness  3000000 non-null  object \n",
      " 6   review/score        3000000 non-null  float64\n",
      " 7   review/time         3000000 non-null  int64  \n",
      " 8   review/summary      2999593 non-null  object \n",
      " 9   review/text         2999992 non-null  object \n",
      "dtypes: float64(2), int64(1), object(7)\n",
      "memory usage: 228.9+ MB\n",
      "<class 'pandas.core.frame.DataFrame'>\n",
      "RangeIndex: 3000000 entries, 0 to 2999999\n",
      "Data columns (total 6 columns):\n",
      " #   Column        Non-Null Count    Dtype  \n",
      "---  ------        --------------    -----  \n",
      " 0   Id            3000000 non-null  object \n",
      " 1   Title         2999792 non-null  object \n",
      " 2   User_id       2438213 non-null  object \n",
      " 3   review/score  3000000 non-null  float64\n",
      " 4   authors       2609366 non-null  object \n",
      " 5   categories    2448502 non-null  object \n",
      "dtypes: float64(1), object(5)\n",
      "memory usage: 137.3+ MB\n"
     ]
    }
   ],
   "source": [
    "%run 'Data Cleaning.ipynb'"
   ]
  },
  {
   "cell_type": "code",
   "execution_count": 2,
   "id": "77ea2bcf",
   "metadata": {},
   "outputs": [],
   "source": [
    "import torch\n",
    "import torch.nn as nn\n",
    "\n",
    "class CollabFiltModel(nn.Module):\n",
    "    def __init__(self, num_users, num_items, emb_size=100):\n",
    "        super().__init__()\n",
    "        self.user_emb = nn.Embedding(num_users, emb_size)\n",
    "        self.item_emb = nn.Embedding(num_items, emb_size)\n",
    "    \n",
    "    def forward(self, user, item):\n",
    "        user_emb = self.user_emb(user)\n",
    "        item_emb = self.item_emb(item)\n",
    "        return (user_emb * item_emb).sum(1)\n"
   ]
  },
  {
   "cell_type": "code",
   "execution_count": 3,
   "id": "205a9dd5",
   "metadata": {},
   "outputs": [
    {
     "name": "stderr",
     "output_type": "stream",
     "text": [
      "/Users/wesleydickens/anaconda3/lib/python3.11/site-packages/sklearn/utils/validation.py:605: FutureWarning: is_sparse is deprecated and will be removed in a future version. Check `isinstance(dtype, pd.SparseDtype)` instead.\n",
      "  if is_sparse(pd_dtype):\n",
      "/Users/wesleydickens/anaconda3/lib/python3.11/site-packages/sklearn/utils/validation.py:614: FutureWarning: is_sparse is deprecated and will be removed in a future version. Check `isinstance(dtype, pd.SparseDtype)` instead.\n",
      "  if is_sparse(pd_dtype) or not is_extension_array_dtype(pd_dtype):\n",
      "/Users/wesleydickens/anaconda3/lib/python3.11/site-packages/sklearn/utils/validation.py:605: FutureWarning: is_sparse is deprecated and will be removed in a future version. Check `isinstance(dtype, pd.SparseDtype)` instead.\n",
      "  if is_sparse(pd_dtype):\n",
      "/Users/wesleydickens/anaconda3/lib/python3.11/site-packages/sklearn/utils/validation.py:614: FutureWarning: is_sparse is deprecated and will be removed in a future version. Check `isinstance(dtype, pd.SparseDtype)` instead.\n",
      "  if is_sparse(pd_dtype) or not is_extension_array_dtype(pd_dtype):\n"
     ]
    }
   ],
   "source": [
    "from sklearn.preprocessing import LabelEncoder\n",
    "from torch.utils.data import Dataset, DataLoader\n",
    "\n",
    "user_encoder = LabelEncoder()\n",
    "item_encoder = LabelEncoder()\n",
    "\n",
    "cleaned_df['User_id'] = user_encoder.fit_transform(cleaned_df['User_id'])\n",
    "cleaned_df['Title'] = item_encoder.fit_transform(cleaned_df['Title'])\n",
    "\n",
    "class ReviewDataset(Dataset):\n",
    "    def __init__(self, users, items, ratings):\n",
    "        self.users = torch.tensor(users, dtype=torch.int64)\n",
    "        self.items = torch.tensor(items, dtype=torch.int64)\n",
    "        self.ratings = torch.tensor(ratings, dtype=torch.float32)\n",
    "    \n",
    "    def __getitem__(self, idx):\n",
    "        return self.users[idx], self.items[idx], self.ratings[idx]\n",
    "    \n",
    "    def __len__(self):\n",
    "        return len(self.ratings)\n",
    "\n",
    "dataset = ReviewDataset(cleaned_df['User_id'].values,\n",
    "                        cleaned_df['Title'].values,\n",
    "                        cleaned_df['review/score'].values)\n",
    "\n",
    "dataloader = DataLoader(dataset, batch_size=512, shuffle=True)\n"
   ]
  },
  {
   "cell_type": "code",
   "execution_count": 16,
   "id": "3ed83be1",
   "metadata": {},
   "outputs": [
    {
     "name": "stdout",
     "output_type": "stream",
     "text": [
      "Epoch 1, Loss: 86.09649658203125\n",
      "Epoch 2, Loss: 33.845497131347656\n",
      "Epoch 3, Loss: 12.858680725097656\n",
      "Epoch 4, Loss: 7.2723541259765625\n",
      "Epoch 5, Loss: 4.967494487762451\n",
      "Epoch 6, Loss: 4.330729007720947\n",
      "Epoch 7, Loss: 2.3235361576080322\n",
      "Epoch 8, Loss: 2.1987404823303223\n",
      "Epoch 9, Loss: 2.0281026363372803\n",
      "Epoch 10, Loss: 1.7778525352478027\n",
      "Epoch 11, Loss: 2.2761335372924805\n",
      "Epoch 12, Loss: 1.8605455160140991\n",
      "Epoch 13, Loss: 1.7270677089691162\n",
      "Epoch 14, Loss: 1.531553030014038\n",
      "Epoch 15, Loss: 1.6718902587890625\n",
      "Epoch 16, Loss: 1.9744842052459717\n",
      "Epoch 17, Loss: 1.7684319019317627\n",
      "Epoch 18, Loss: 1.583323359489441\n",
      "Epoch 19, Loss: 2.0113019943237305\n",
      "Epoch 20, Loss: 1.7324165105819702\n"
     ]
    }
   ],
   "source": [
    "device = torch.device(\"mps\" if torch.backends.mps.is_available() else \"cpu\")\n",
    "model = CollabFiltModel(num_users=cleaned_df['User_id'].nunique(),\n",
    "                        num_items=cleaned_df['Title'].nunique()).to(device)\n",
    "criterion = nn.MSELoss()\n",
    "optimizer = torch.optim.Adam(model.parameters(), lr=0.001)\n",
    "epoch_loss_dict = {}\n",
    "for epoch in range(20):\n",
    "    for users, items, ratings in dataloader:\n",
    "        users, items, ratings = users.to(device), items.to(device), ratings.to(device)\n",
    "        \n",
    "        optimizer.zero_grad()\n",
    "        predictions = model(users, items)\n",
    "        loss = criterion(predictions, ratings)\n",
    "        loss.backward()\n",
    "        optimizer.step()\n",
    "    \n",
    "    print(f'Epoch {epoch+1}, Loss: {loss.item()}')\n",
    "    epoch_loss_dict[epoch] = loss.item()"
   ]
  },
  {
   "cell_type": "code",
   "execution_count": 17,
   "id": "d49efeef",
   "metadata": {},
   "outputs": [
    {
     "name": "stdout",
     "output_type": "stream",
     "text": [
      "[44.78833  43.911034 42.728004 42.671112 41.189594]\n",
      "Recommended Items: ['Never Were Men So Brave: The Irish Brigade During the Civil War'\n",
      " 'Of Two Minds: Hypertext Pedagogy and Poetics (Studies in Literature and Science)'\n",
      " 'Fernan Gonzalez, First Count of Castile: The man and the legend (Romance monographs ; no. 40)'\n",
      " 'Student Workbook for Sentence Combining With Exercises and Key'\n",
      " 'Log of the Centurion']\n"
     ]
    }
   ],
   "source": [
    "def recommend_items_for_user(model, user_id, user_encoder, item_encoder, num_recommendations=5):\n",
    "    # Set model to evaluation mode\n",
    "    model.eval()\n",
    "    \n",
    "    # Encode the user ID\n",
    "    encoded_user_id = user_encoder.transform([user_id])\n",
    "    \n",
    "    # Create a tensor for the user ID\n",
    "    user_tensor = torch.tensor(encoded_user_id, dtype=torch.int64).to(device)\n",
    "    \n",
    "    # Predict scores for all items for this user\n",
    "    all_items = torch.tensor(range(len(item_encoder.classes_)), dtype=torch.int64).to(device)\n",
    "    user = user_tensor.repeat(len(all_items))\n",
    "    predictions = model(user, all_items).detach().cpu().numpy()\n",
    "    # Get the top N recommendations; argsort returns indices of sorted array\n",
    "    top_indices = predictions.argsort()[-num_recommendations:][::-1]\n",
    "    # Decode the recommended item IDs\n",
    "    recommended_items = item_encoder.inverse_transform(top_indices)\n",
    "    top_ratings = predictions[top_indices]\n",
    "    print(top_ratings)\n",
    "    return recommended_items\n",
    "\n",
    "user_id_to_recommend = 'AVCGYZL8FQQTD'  # Example user ID\n",
    "recommended_items = recommend_items_for_user(model, user_id_to_recommend, user_encoder, item_encoder)\n",
    "print(\"Recommended Items:\", recommended_items)\n"
   ]
  },
  {
   "cell_type": "code",
   "execution_count": 18,
   "id": "e6f8114d",
   "metadata": {},
   "outputs": [],
   "source": [
    "from sklearn.model_selection import train_test_split\n",
    "\n",
    "train_df, test_df = train_test_split(cleaned_df, test_size=0.2, random_state=42)\n"
   ]
  },
  {
   "cell_type": "code",
   "execution_count": 20,
   "id": "12b67591",
   "metadata": {},
   "outputs": [],
   "source": [
    "train_dataset = ReviewDataset(train_df['User_id'].values, train_df['Title'].values, train_df['review/score'].values)\n",
    "train_dataloader = DataLoader(train_dataset, batch_size=512, shuffle=True)\n",
    "\n",
    "test_dataset = ReviewDataset(test_df['User_id'].values, test_df['Title'].values, test_df['review/score'].values)\n",
    "test_dataloader = DataLoader(test_dataset, batch_size=512, shuffle=False)\n"
   ]
  },
  {
   "cell_type": "code",
   "execution_count": 21,
   "id": "71f33443",
   "metadata": {},
   "outputs": [
    {
     "name": "stdout",
     "output_type": "stream",
     "text": [
      "RMSE: 1.3140360116958618\n",
      "MAE: 1.0313392882792154\n"
     ]
    }
   ],
   "source": [
    "model.eval()\n",
    "total_squared_error = 0.0\n",
    "total_absolute_error = 0.0\n",
    "total_count = 0\n",
    "\n",
    "with torch.no_grad():\n",
    "    for users, items, ratings in test_dataloader:\n",
    "        users, items, ratings = users.to(device), items.to(device), ratings.to(device)\n",
    "        predictions = model(users, items)\n",
    "        \n",
    "        # Squared error for RMSE\n",
    "        squared_error = (predictions - ratings) ** 2\n",
    "        total_squared_error += squared_error.sum().item()\n",
    "        # Absolute error for MAE\n",
    "        absolute_error = torch.abs(predictions - ratings)\n",
    "        total_absolute_error += absolute_error.sum().item()\n",
    "        \n",
    "        total_count += ratings.size(0)\n",
    "\n",
    "# Calculate mean squared error and RMSE\n",
    "mse = total_squared_error / total_count\n",
    "rmse = torch.sqrt(torch.tensor(mse))\n",
    "\n",
    "# Calculate mean absolute error\n",
    "mae = total_absolute_error / total_count\n",
    "\n",
    "print(f'RMSE: {rmse}')\n",
    "print(f'MAE: {mae}')\n"
   ]
  },
  {
   "cell_type": "code",
   "execution_count": 23,
   "id": "e9c4312e",
   "metadata": {},
   "outputs": [],
   "source": [
    "# Save the model state dictionary\n",
    "torch.save(model.state_dict(), 'collab_filt_model_state_dict.pth')\n",
    "\n",
    "# Save the encoders\n",
    "import joblib\n",
    "joblib.dump(user_encoder, 'user_encoder.joblib')\n",
    "joblib.dump(item_encoder, 'item_encoder.joblib')\n",
    "\n",
    "cleaned_df.to_csv('cleaned_df')\n"
   ]
  },
  {
   "cell_type": "code",
   "execution_count": 24,
   "id": "dcd41dea",
   "metadata": {},
   "outputs": [],
   "source": [
    "import torch\n",
    "import torch.nn as nn\n",
    "import torch.nn.utils.prune as prune\n",
    "from copy import deepcopy\n",
    "import os"
   ]
  },
  {
   "cell_type": "code",
   "execution_count": 25,
   "id": "72ac98c7",
   "metadata": {},
   "outputs": [],
   "source": [
    "import scipy.sparse as sp\n",
    "\n",
    "def save_sparse_matrix(tensor, path):\n",
    "    # Convert PyTorch tensor to a NumPy array\n",
    "    tensor_np = tensor.detach().cpu().numpy()\n",
    "    \n",
    "    # Convert the NumPy array to a SciPy sparse matrix (CSR format)\n",
    "    sparse_matrix = sp.csr_matrix(tensor_np)\n",
    "    \n",
    "    # Save the sparse matrix to disk\n",
    "    sp.save_npz(path, sparse_matrix)\n",
    "\n",
    "save_sparse_matrix(model.user_emb.weight, \"user_emb_sparse.npz\")\n",
    "save_sparse_matrix(model.item_emb.weight, \"item_emb_sparse.npz\")"
   ]
  },
  {
   "cell_type": "code",
   "execution_count": 26,
   "id": "25667dbd",
   "metadata": {},
   "outputs": [
    {
     "data": {
      "text/plain": [
       "{0: 86.09649658203125,\n",
       " 1: 33.845497131347656,\n",
       " 2: 12.858680725097656,\n",
       " 3: 7.2723541259765625,\n",
       " 4: 4.967494487762451,\n",
       " 5: 4.330729007720947,\n",
       " 6: 2.3235361576080322,\n",
       " 7: 2.1987404823303223,\n",
       " 8: 2.0281026363372803,\n",
       " 9: 1.7778525352478027,\n",
       " 10: 2.2761335372924805,\n",
       " 11: 1.8605455160140991,\n",
       " 12: 1.7270677089691162,\n",
       " 13: 1.531553030014038,\n",
       " 14: 1.6718902587890625,\n",
       " 15: 1.9744842052459717,\n",
       " 16: 1.7684319019317627,\n",
       " 17: 1.583323359489441,\n",
       " 18: 2.0113019943237305,\n",
       " 19: 1.7324165105819702}"
      ]
     },
     "execution_count": 26,
     "metadata": {},
     "output_type": "execute_result"
    }
   ],
   "source": [
    "epoch_loss_dict"
   ]
  },
  {
   "cell_type": "code",
   "execution_count": 22,
   "id": "ee728832",
   "metadata": {},
   "outputs": [
    {
     "data": {
      "image/png": "[encoded data removed]",
      "text/plain": [
       "<Figure size 1000x600 with 1 Axes>"
      ]
     },
     "metadata": {},
     "output_type": "display_data"
    }
   ],
   "source": [
    "import matplotlib.pyplot as plt\n",
    "\n",
    "epochs = list(epoch_loss_dict.keys())\n",
    "losses = list(epoch_loss_dict.values())\n",
    "\n",
    "# Plotting\n",
    "plt.figure(figsize=(10, 6))\n",
    "plt.plot(epochs, losses, marker='o', linestyle='-', color='blue')\n",
    "plt.title('Training Loss per Epoch')\n",
    "plt.xlabel('Epoch')\n",
    "plt.ylabel('Loss')\n",
    "plt.grid(True)\n",
    "plt.xticks(epochs)\n",
    "plt.show()"
   ]
  },
  {
   "cell_type": "code",
   "execution_count": null,
   "id": "93cf6229",
   "metadata": {},
   "outputs": [],
   "source": []
  }
 ],
 "metadata": {
  "kernelspec": {
   "display_name": "Python 3 (ipykernel)",
   "language": "python",
   "name": "python3"
  },
  "language_info": {
   "codemirror_mode": {
    "name": "ipython",
    "version": 3
   },
   "file_extension": ".py",
   "mimetype": "text/x-python",
   "name": "python",
   "nbconvert_exporter": "python",
   "pygments_lexer": "ipython3",
   "version": "3.11.5"
  }
 },
 "nbformat": 4,
 "nbformat_minor": 5
}
