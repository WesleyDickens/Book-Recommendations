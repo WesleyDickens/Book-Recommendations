{
 "cells": [
  {
   "cell_type": "code",
   "execution_count": null,
   "id": "1f218d55",
   "metadata": {},
   "outputs": [],
   "source": [
    "%run 'Data Cleaning.ipynb'"
   ]
  },
  {
   "cell_type": "code",
   "execution_count": null,
   "id": "77ea2bcf",
   "metadata": {},
   "outputs": [],
   "source": [
    "import torch\n",
    "import torch.nn as nn\n",
    "\n",
    "class CollabFiltModel(nn.Module):\n",
    "    def __init__(self, num_users, num_items, emb_size=100):\n",
    "        super().__init__()\n",
    "        self.user_emb = nn.Embedding(num_users, emb_size)\n",
    "        self.item_emb = nn.Embedding(num_items, emb_size)\n",
    "    \n",
    "    def forward(self, user, item):\n",
    "        user_emb = self.user_emb(user)\n",
    "        item_emb = self.item_emb(item)\n",
    "        return (user_emb * item_emb).sum(1)\n"
   ]
  },
  {
   "cell_type": "code",
   "execution_count": null,
   "id": "205a9dd5",
   "metadata": {},
   "outputs": [],
   "source": [
    "from sklearn.preprocessing import LabelEncoder\n",
    "from torch.utils.data import Dataset, DataLoader\n",
    "\n",
    "user_encoder = LabelEncoder()\n",
    "item_encoder = LabelEncoder()\n",
    "\n",
    "cleaned_df['User_id'] = user_encoder.fit_transform(cleaned_df['User_id'])\n",
    "cleaned_df['Title'] = item_encoder.fit_transform(cleaned_df['Title'])\n",
    "\n",
    "class ReviewDataset(Dataset):\n",
    "    def __init__(self, users, items, ratings):\n",
    "        self.users = torch.tensor(users, dtype=torch.int64)\n",
    "        self.items = torch.tensor(items, dtype=torch.int64)\n",
    "        self.ratings = torch.tensor(ratings, dtype=torch.float32)\n",
    "    \n",
    "    def __getitem__(self, idx):\n",
    "        return self.users[idx], self.items[idx], self.ratings[idx]\n",
    "    \n",
    "    def __len__(self):\n",
    "        return len(self.ratings)\n",
    "\n",
    "dataset = ReviewDataset(cleaned_df['User_id'].values,\n",
    "                        cleaned_df['Title'].values,\n",
    "                        cleaned_df['review/score'].values)\n",
    "\n",
    "dataloader = DataLoader(dataset, batch_size=512, shuffle=True)\n"
   ]
  },
  {
   "cell_type": "code",
   "execution_count": null,
   "id": "3ed83be1",
   "metadata": {},
   "outputs": [],
   "source": [
    "device = torch.device(\"mps\" if torch.backends.mps.is_available() else \"cpu\")\n",
    "model = CollabFiltModel(num_users=cleaned_df['User_id'].nunique(),\n",
    "                        num_items=cleaned_df['Title'].nunique()).to(device)\n",
    "criterion = nn.MSELoss()\n",
    "optimizer = torch.optim.Adam(model.parameters(), lr=0.001)\n",
    "epoch_loss_dict = {}\n",
    "for epoch in range(10):\n",
    "    for users, items, ratings in dataloader:\n",
    "        users, items, ratings = users.to(device), items.to(device), ratings.to(device)\n",
    "        \n",
    "        optimizer.zero_grad()\n",
    "        predictions = model(users, items)\n",
    "        loss = criterion(predictions, ratings)\n",
    "        loss.backward()\n",
    "        optimizer.step()\n",
    "    \n",
    "    print(f'Epoch {epoch+1}, Loss: {loss.item()}')\n",
    "    epoch_loss_dict[epoch] = loss.item()"
   ]
  },
  {
   "cell_type": "code",
   "execution_count": null,
   "id": "d49efeef",
   "metadata": {},
   "outputs": [],
   "source": [
    "def recommend_items_for_user(model, user_id, user_encoder, item_encoder, num_recommendations=5):\n",
    "    # Set model to evaluation mode\n",
    "    model.eval()\n",
    "    \n",
    "    # Encode the user ID\n",
    "    encoded_user_id = user_encoder.transform([user_id])\n",
    "    \n",
    "    # Create a tensor for the user ID\n",
    "    user_tensor = torch.tensor(encoded_user_id, dtype=torch.int64).to(device)\n",
    "    \n",
    "    # Predict scores for all items for this user\n",
    "    all_items = torch.tensor(range(len(item_encoder.classes_)), dtype=torch.int64).to(device)\n",
    "    user = user_tensor.repeat(len(all_items))\n",
    "    predictions = model(user, all_items).detach().cpu().numpy()\n",
    "    # Get the top N recommendations; argsort returns indices of sorted array\n",
    "    top_indices = predictions.argsort()[-num_recommendations:][::-1]\n",
    "    # Decode the recommended item IDs\n",
    "    recommended_items = item_encoder.inverse_transform(top_indices)\n",
    "    top_ratings = predictions[top_indices]\n",
    "    print(top_ratings)\n",
    "    return recommended_items\n",
    "\n",
    "user_id_to_recommend = 'AVCGYZL8FQQTD'  # Example user ID\n",
    "recommended_items = recommend_items_for_user(model, user_id_to_recommend, user_encoder, item_encoder)\n",
    "print(\"Recommended Items:\", recommended_items)\n"
   ]
  },
  {
   "cell_type": "code",
   "execution_count": null,
   "id": "e6f8114d",
   "metadata": {},
   "outputs": [],
   "source": [
    "from sklearn.model_selection import train_test_split\n",
    "\n",
    "train_df, test_df = train_test_split(cleaned_df, test_size=0.2, random_state=42)\n"
   ]
  },
  {
   "cell_type": "code",
   "execution_count": null,
   "id": "12b67591",
   "metadata": {},
   "outputs": [],
   "source": [
    "train_dataset = ReviewDataset(train_df['User_id'].values, train_df['Title'].values, train_df['review/score'].values)\n",
    "train_dataloader = DataLoader(train_dataset, batch_size=512, shuffle=True)\n",
    "\n",
    "test_dataset = ReviewDataset(test_df['User_id'].values, test_df['Title'].values, test_df['review/score'].values)\n",
    "test_dataloader = DataLoader(test_dataset, batch_size=512, shuffle=False)\n"
   ]
  },
  {
   "cell_type": "code",
   "execution_count": null,
   "id": "71f33443",
   "metadata": {},
   "outputs": [],
   "source": [
    "model.eval()\n",
    "total_squared_error = 0.0\n",
    "total_absolute_error = 0.0\n",
    "total_count = 0\n",
    "\n",
    "with torch.no_grad():\n",
    "    for users, items, ratings in test_dataloader:\n",
    "        users, items, ratings = users.to(device), items.to(device), ratings.to(device)\n",
    "        predictions = model(users, items)\n",
    "        \n",
    "        # Squared error for RMSE\n",
    "        squared_error = (predictions - ratings) ** 2\n",
    "        total_squared_error += squared_error.sum().item()\n",
    "        # Absolute error for MAE\n",
    "        absolute_error = torch.abs(predictions - ratings)\n",
    "        total_absolute_error += absolute_error.sum().item()\n",
    "        \n",
    "        total_count += ratings.size(0)\n",
    "\n",
    "# Calculate mean squared error and RMSE\n",
    "mse = total_squared_error / total_count\n",
    "rmse = torch.sqrt(torch.tensor(mse))\n",
    "\n",
    "# Calculate mean absolute error\n",
    "mae = total_absolute_error / total_count\n",
    "\n",
    "print(f'RMSE: {rmse}')\n",
    "print(f'MAE: {mae}')\n"
   ]
  },
  {
   "cell_type": "code",
   "execution_count": null,
   "id": "e9c4312e",
   "metadata": {},
   "outputs": [],
   "source": [
    "# Save the model state dictionary\n",
    "torch.save(model.state_dict(), 'collab_filt_model_state_dict.pth')\n",
    "\n",
    "# Save the encoders\n",
    "import joblib\n",
    "joblib.dump(user_encoder, 'user_encoder.joblib')\n",
    "joblib.dump(item_encoder, 'item_encoder.joblib')\n",
    "\n",
    "cleaned_df.to_csv('cleaned_df')\n"
   ]
  },
  {
   "cell_type": "code",
   "execution_count": null,
   "id": "dcd41dea",
   "metadata": {},
   "outputs": [],
   "source": [
    "import torch\n",
    "import torch.nn as nn\n",
    "import torch.nn.utils.prune as prune\n",
    "from copy import deepcopy\n",
    "import os"
   ]
  },
  {
   "cell_type": "code",
   "execution_count": null,
   "id": "72ac98c7",
   "metadata": {},
   "outputs": [],
   "source": [
    "import scipy.sparse as sp\n",
    "\n",
    "def save_sparse_matrix(tensor, path):\n",
    "    # Convert PyTorch tensor to a NumPy array\n",
    "    tensor_np = tensor.detach().cpu().numpy()\n",
    "    \n",
    "    # Convert the NumPy array to a SciPy sparse matrix (CSR format)\n",
    "    sparse_matrix = sp.csr_matrix(tensor_np)\n",
    "    \n",
    "    # Save the sparse matrix to disk\n",
    "    sp.save_npz(path, sparse_matrix)\n",
    "\n",
    "# Assuming pruned_model is your pruned model\n",
    "save_sparse_matrix(model.user_emb.weight, \"user_emb_sparse.npz\")\n",
    "save_sparse_matrix(model.item_emb.weight, \"item_emb_sparse.npz\")"
   ]
  },
  {
   "cell_type": "code",
   "execution_count": null,
   "id": "25667dbd",
   "metadata": {},
   "outputs": [],
   "source": []
  }
 ],
 "metadata": {
  "kernelspec": {
   "display_name": "Python 3 (ipykernel)",
   "language": "python",
   "name": "python3"
  },
  "language_info": {
   "codemirror_mode": {
    "name": "ipython",
    "version": 3
   },
   "file_extension": ".py",
   "mimetype": "text/x-python",
   "name": "python",
   "nbconvert_exporter": "python",
   "pygments_lexer": "ipython3",
   "version": "3.11.5"
  }
 },
 "nbformat": 4,
 "nbformat_minor": 5
}
