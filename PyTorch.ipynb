{
 "cells": [
  {
   "cell_type": "code",
   "execution_count": 1,
   "id": "1f218d55",
   "metadata": {},
   "outputs": [
    {
     "name": "stdout",
     "output_type": "stream",
     "text": [
      "<class 'pandas.core.frame.DataFrame'>\n",
      "RangeIndex: 3000000 entries, 0 to 2999999\n",
      "Data columns (total 10 columns):\n",
      " #   Column              Non-Null Count    Dtype  \n",
      "---  ------              --------------    -----  \n",
      " 0   Id                  3000000 non-null  object \n",
      " 1   Title               2999792 non-null  object \n",
      " 2   Price               481171 non-null   float64\n",
      " 3   User_id             2438213 non-null  object \n",
      " 4   profileName         2438095 non-null  object \n",
      " 5   review/helpfulness  3000000 non-null  object \n",
      " 6   review/score        3000000 non-null  float64\n",
      " 7   review/time         3000000 non-null  int64  \n",
      " 8   review/summary      2999593 non-null  object \n",
      " 9   review/text         2999992 non-null  object \n",
      "dtypes: float64(2), int64(1), object(7)\n",
      "memory usage: 228.9+ MB\n",
      "<class 'pandas.core.frame.DataFrame'>\n",
      "RangeIndex: 3000000 entries, 0 to 2999999\n",
      "Data columns (total 6 columns):\n",
      " #   Column        Non-Null Count    Dtype  \n",
      "---  ------        --------------    -----  \n",
      " 0   Id            3000000 non-null  object \n",
      " 1   Title         2999792 non-null  object \n",
      " 2   User_id       2438213 non-null  object \n",
      " 3   review/score  3000000 non-null  float64\n",
      " 4   authors       2609366 non-null  object \n",
      " 5   categories    2448502 non-null  object \n",
      "dtypes: float64(1), object(5)\n",
      "memory usage: 137.3+ MB\n"
     ]
    }
   ],
   "source": [
    "%run 'Data Cleaning.ipynb'"
   ]
  },
  {
   "cell_type": "code",
   "execution_count": 2,
   "id": "77ea2bcf",
   "metadata": {},
   "outputs": [],
   "source": [
    "import torch\n",
    "import torch.nn as nn\n",
    "\n",
    "class CollabFiltModel(nn.Module):\n",
    "    def __init__(self, num_users, num_items, emb_size=100):\n",
    "        super().__init__()\n",
    "        self.user_emb = nn.Embedding(num_users, emb_size)\n",
    "        self.item_emb = nn.Embedding(num_items, emb_size)\n",
    "    \n",
    "    def forward(self, user, item):\n",
    "        user_emb = self.user_emb(user)\n",
    "        item_emb = self.item_emb(item)\n",
    "        return (user_emb * item_emb).sum(1)\n"
   ]
  },
  {
   "cell_type": "code",
   "execution_count": 3,
   "id": "205a9dd5",
   "metadata": {},
   "outputs": [
    {
     "name": "stderr",
     "output_type": "stream",
     "text": [
      "/Users/wesleydickens/anaconda3/lib/python3.11/site-packages/sklearn/utils/validation.py:605: FutureWarning: is_sparse is deprecated and will be removed in a future version. Check `isinstance(dtype, pd.SparseDtype)` instead.\n",
      "  if is_sparse(pd_dtype):\n",
      "/Users/wesleydickens/anaconda3/lib/python3.11/site-packages/sklearn/utils/validation.py:614: FutureWarning: is_sparse is deprecated and will be removed in a future version. Check `isinstance(dtype, pd.SparseDtype)` instead.\n",
      "  if is_sparse(pd_dtype) or not is_extension_array_dtype(pd_dtype):\n",
      "/Users/wesleydickens/anaconda3/lib/python3.11/site-packages/sklearn/utils/validation.py:605: FutureWarning: is_sparse is deprecated and will be removed in a future version. Check `isinstance(dtype, pd.SparseDtype)` instead.\n",
      "  if is_sparse(pd_dtype):\n",
      "/Users/wesleydickens/anaconda3/lib/python3.11/site-packages/sklearn/utils/validation.py:614: FutureWarning: is_sparse is deprecated and will be removed in a future version. Check `isinstance(dtype, pd.SparseDtype)` instead.\n",
      "  if is_sparse(pd_dtype) or not is_extension_array_dtype(pd_dtype):\n"
     ]
    }
   ],
   "source": [
    "from sklearn.preprocessing import LabelEncoder\n",
    "from torch.utils.data import Dataset, DataLoader\n",
    "\n",
    "user_encoder = LabelEncoder()\n",
    "item_encoder = LabelEncoder()\n",
    "\n",
    "cleaned_df['User_id'] = user_encoder.fit_transform(cleaned_df['User_id'])\n",
    "cleaned_df['Title'] = item_encoder.fit_transform(cleaned_df['Title'])\n",
    "\n",
    "class ReviewDataset(Dataset):\n",
    "    def __init__(self, users, items, ratings):\n",
    "        self.users = torch.tensor(users, dtype=torch.int64)\n",
    "        self.items = torch.tensor(items, dtype=torch.int64)\n",
    "        self.ratings = torch.tensor(ratings, dtype=torch.float32)\n",
    "    \n",
    "    def __getitem__(self, idx):\n",
    "        return self.users[idx], self.items[idx], self.ratings[idx]\n",
    "    \n",
    "    def __len__(self):\n",
    "        return len(self.ratings)\n",
    "\n",
    "dataset = ReviewDataset(cleaned_df['User_id'].values,\n",
    "                        cleaned_df['Title'].values,\n",
    "                        cleaned_df['review/score'].values)\n",
    "\n",
    "dataloader = DataLoader(dataset, batch_size=512, shuffle=True)\n"
   ]
  },
  {
   "cell_type": "code",
   "execution_count": 4,
   "id": "3ed83be1",
   "metadata": {},
   "outputs": [
    {
     "name": "stdout",
     "output_type": "stream",
     "text": [
      "Epoch 1, Loss: 73.8791275024414\n",
      "Epoch 2, Loss: 40.05559158325195\n",
      "Epoch 3, Loss: 17.023601531982422\n",
      "Epoch 4, Loss: 9.332221031188965\n",
      "Epoch 5, Loss: 6.376220703125\n",
      "Epoch 6, Loss: 3.461580276489258\n",
      "Epoch 7, Loss: 3.177886486053467\n",
      "Epoch 8, Loss: 3.0396687984466553\n",
      "Epoch 9, Loss: 2.400233268737793\n",
      "Epoch 10, Loss: 1.823348045349121\n"
     ]
    }
   ],
   "source": [
    "device = torch.device(\"mps\" if torch.backends.mps.is_available() else \"cpu\")\n",
    "model = CollabFiltModel(num_users=cleaned_df['User_id'].nunique(),\n",
    "                        num_items=cleaned_df['Title'].nunique()).to(device)\n",
    "criterion = nn.MSELoss()\n",
    "optimizer = torch.optim.Adam(model.parameters(), lr=0.001)\n",
    "epoch_loss_dict = {}\n",
    "for epoch in range(10):\n",
    "    for users, items, ratings in dataloader:\n",
    "        users, items, ratings = users.to(device), items.to(device), ratings.to(device)\n",
    "        \n",
    "        optimizer.zero_grad()\n",
    "        predictions = model(users, items)\n",
    "        loss = criterion(predictions, ratings)\n",
    "        loss.backward()\n",
    "        optimizer.step()\n",
    "    \n",
    "    print(f'Epoch {epoch+1}, Loss: {loss.item()}')\n",
    "    epoch_loss_dict[epoch] = loss.item()"
   ]
  },
  {
   "cell_type": "code",
   "execution_count": 5,
   "id": "1e505cde",
   "metadata": {},
   "outputs": [
    {
     "data": {
      "image/png": "[encoded data removed]",
      "text/plain": [
       "<Figure size 1000x600 with 1 Axes>"
      ]
     },
     "metadata": {},
     "output_type": "display_data"
    }
   ],
   "source": [
    "import matplotlib.pyplot as plt\n",
    "\n",
    "epochs = list(epoch_loss_dict.keys())\n",
    "losses = list(epoch_loss_dict.values())\n",
    "\n",
    "# Plotting\n",
    "plt.figure(figsize=(10, 6))\n",
    "plt.plot(epochs, losses, marker='o', linestyle='-', color='blue')\n",
    "plt.title('Training Loss per Epoch')\n",
    "plt.xlabel('Epoch')\n",
    "plt.ylabel('Loss')\n",
    "plt.grid(True)\n",
    "plt.xticks(epochs)\n",
    "plt.show()"
   ]
  },
  {
   "cell_type": "code",
   "execution_count": 6,
   "id": "d49efeef",
   "metadata": {},
   "outputs": [
    {
     "name": "stdout",
     "output_type": "stream",
     "text": [
      "[45.54682  42.097397 41.50647  39.671608 39.62702 ]\n",
      "Recommended Items: ['Accounting and Recordkeeping Made Easy for the Self-Employed'\n",
      " 'Calligraphic Ornaments CD-ROM and Book (Dover Electronic Clip Art)'\n",
      " 'Prom Night'\n",
      " 'NYC Ballet Workout: Fifty Stretches And Exercises Anyone Can Do For A Strong, Graceful, And Sculpted Body'\n",
      " 'Edgar Cayce on Healing Foods for Body, Mind, and Soul']\n"
     ]
    }
   ],
   "source": [
    "def recommend_items_for_user(model, user_id, user_encoder, item_encoder, num_recommendations=5):\n",
    "    # Set model to evaluation mode\n",
    "    model.eval()\n",
    "    \n",
    "    # Encode the user ID\n",
    "    encoded_user_id = user_encoder.transform([user_id])\n",
    "    \n",
    "    # Create a tensor for the user ID\n",
    "    user_tensor = torch.tensor(encoded_user_id, dtype=torch.int64).to(device)\n",
    "    \n",
    "    # Predict scores for all items for this user\n",
    "    all_items = torch.tensor(range(len(item_encoder.classes_)), dtype=torch.int64).to(device)\n",
    "    user = user_tensor.repeat(len(all_items))\n",
    "    predictions = model(user, all_items).detach().cpu().numpy()\n",
    "    # Get the top N recommendations; argsort returns indices of sorted array\n",
    "    top_indices = predictions.argsort()[-num_recommendations:][::-1]\n",
    "    # Decode the recommended item IDs\n",
    "    recommended_items = item_encoder.inverse_transform(top_indices)\n",
    "    top_ratings = predictions[top_indices]\n",
    "    print(top_ratings)\n",
    "    return recommended_items\n",
    "\n",
    "user_id_to_recommend = 'AVCGYZL8FQQTD'  # Example user ID\n",
    "recommended_items = recommend_items_for_user(model, user_id_to_recommend, user_encoder, item_encoder)\n",
    "print(\"Recommended Items:\", recommended_items)\n"
   ]
  },
  {
   "cell_type": "code",
   "execution_count": 7,
   "id": "e6f8114d",
   "metadata": {},
   "outputs": [],
   "source": [
    "from sklearn.model_selection import train_test_split\n",
    "\n",
    "train_df, test_df = train_test_split(cleaned_df, test_size=0.2, random_state=42)\n"
   ]
  },
  {
   "cell_type": "code",
   "execution_count": 8,
   "id": "12b67591",
   "metadata": {},
   "outputs": [],
   "source": [
    "train_dataset = ReviewDataset(train_df['User_id'].values, train_df['Title'].values, train_df['review/score'].values)\n",
    "train_dataloader = DataLoader(train_dataset, batch_size=512, shuffle=True)\n",
    "\n",
    "test_dataset = ReviewDataset(test_df['User_id'].values, test_df['Title'].values, test_df['review/score'].values)\n",
    "test_dataloader = DataLoader(test_dataset, batch_size=512, shuffle=False)\n"
   ]
  },
  {
   "cell_type": "code",
   "execution_count": 10,
   "id": "71f33443",
   "metadata": {},
   "outputs": [
    {
     "name": "stdout",
     "output_type": "stream",
     "text": [
      "RMSE: 1.3729840517044067\n",
      "MAE: 1.091171658376058\n"
     ]
    },
    {
     "data": {
      "image/png": "[encoded data removed]",
      "text/plain": [
       "<Figure size 1000x600 with 1 Axes>"
      ]
     },
     "metadata": {},
     "output_type": "display_data"
    }
   ],
   "source": [
    "model.eval()\n",
    "total_squared_error = 0.0\n",
    "total_absolute_error = 0.0\n",
    "total_count = 0\n",
    "\n",
    "with torch.no_grad():\n",
    "    for users, items, ratings in test_dataloader:\n",
    "        users, items, ratings = users.to(device), items.to(device), ratings.to(device)\n",
    "        predictions = model(users, items)\n",
    "        error = predictions - ratings\n",
    "        # Squared error for RMSE\n",
    "        squared_error = error ** 2\n",
    "        total_squared_error += squared_error.sum().item()\n",
    "        # Absolute error for MAE\n",
    "        absolute_error = torch.abs(error)\n",
    "        total_absolute_error += absolute_error.sum().item()\n",
    "        \n",
    "        total_count += ratings.size(0)\n",
    "\n",
    "# Calculate mean squared error and RMSE\n",
    "mse = total_squared_error / total_count\n",
    "rmse = torch.sqrt(torch.tensor(mse))\n",
    "\n",
    "# Calculate mean absolute error\n",
    "mae = total_absolute_error / total_count\n",
    "\n",
    "print(f'RMSE: {rmse}')\n",
    "print(f'MAE: {mae}')\n",
    "\n",
    "plt.figure(figsize=(10, 6))\n",
    "plt.hist(error.cpu().numpy(), bins=50, alpha=0.7, color='r', edgecolor='black')\n",
    "plt.title('Distribution of Prediction Errors')\n",
    "plt.xlabel('Prediction Error')\n",
    "plt.ylabel('Frequency')\n",
    "plt.grid(True)\n",
    "plt.show()\n"
   ]
  },
  {
   "cell_type": "code",
   "execution_count": 11,
   "id": "e9c4312e",
   "metadata": {},
   "outputs": [],
   "source": [
    "# Save the model state dictionary\n",
    "torch.save(model.state_dict(), 'Model Files/collab_filt_model_state_dict.pth')\n",
    "\n",
    "# Save the encoders\n",
    "import joblib\n",
    "joblib.dump(user_encoder, 'Model Files/user_encoder.joblib')\n",
    "joblib.dump(item_encoder, 'Model Files/item_encoder.joblib')\n",
    "\n",
    "cleaned_df.to_csv('Model Files/cleaned_df.csv')\n"
   ]
  },
  {
   "cell_type": "code",
   "execution_count": null,
   "id": "89a2d148",
   "metadata": {},
   "outputs": [],
   "source": []
  }
 ],
 "metadata": {
  "kernelspec": {
   "display_name": "Python 3 (ipykernel)",
   "language": "python",
   "name": "python3"
  },
  "language_info": {
   "codemirror_mode": {
    "name": "ipython",
    "version": 3
   },
   "file_extension": ".py",
   "mimetype": "text/x-python",
   "name": "python",
   "nbconvert_exporter": "python",
   "pygments_lexer": "ipython3",
   "version": "3.11.5"
  }
 },
 "nbformat": 4,
 "nbformat_minor": 5
}
