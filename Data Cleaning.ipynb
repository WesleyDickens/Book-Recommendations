{
 "cells": [
  {
   "cell_type": "code",
   "execution_count": 1,
   "id": "1848ebee",
   "metadata": {},
   "outputs": [],
   "source": [
    "import pandas as pd"
   ]
  },
  {
   "cell_type": "code",
   "execution_count": 2,
   "id": "db779a8d",
   "metadata": {},
   "outputs": [],
   "source": [
    "reviews = pd.read_csv('Book Data/Books_rating.csv')"
   ]
  },
  {
   "cell_type": "code",
   "execution_count": 3,
   "id": "ba54402d",
   "metadata": {},
   "outputs": [
    {
     "name": "stdout",
     "output_type": "stream",
     "text": [
      "<class 'pandas.core.frame.DataFrame'>\n",
      "RangeIndex: 3000000 entries, 0 to 2999999\n",
      "Data columns (total 10 columns):\n",
      " #   Column              Non-Null Count    Dtype  \n",
      "---  ------              --------------    -----  \n",
      " 0   Id                  3000000 non-null  object \n",
      " 1   Title               2999792 non-null  object \n",
      " 2   Price               481171 non-null   float64\n",
      " 3   User_id             2438213 non-null  object \n",
      " 4   profileName         2438095 non-null  object \n",
      " 5   review/helpfulness  3000000 non-null  object \n",
      " 6   review/score        3000000 non-null  float64\n",
      " 7   review/time         3000000 non-null  int64  \n",
      " 8   review/summary      2999593 non-null  object \n",
      " 9   review/text         2999992 non-null  object \n",
      "dtypes: float64(2), int64(1), object(7)\n",
      "memory usage: 228.9+ MB\n"
     ]
    }
   ],
   "source": [
    "reviews.info(verbose=True, show_counts=True)"
   ]
  },
  {
   "cell_type": "code",
   "execution_count": 4,
   "id": "e5adc564",
   "metadata": {},
   "outputs": [],
   "source": [
    "book_info = pd.read_csv('Book Data/books_data.csv')"
   ]
  },
  {
   "cell_type": "code",
   "execution_count": 5,
   "id": "c5b8ffc6",
   "metadata": {},
   "outputs": [],
   "source": [
    "book_df = book_info[['Title','authors','categories']]"
   ]
  },
  {
   "cell_type": "code",
   "execution_count": 6,
   "id": "bff553a6",
   "metadata": {},
   "outputs": [],
   "source": [
    "merged_df = pd.merge(reviews,book_df,on='Title',how='inner')"
   ]
  },
  {
   "cell_type": "code",
   "execution_count": 7,
   "id": "dbde7048",
   "metadata": {},
   "outputs": [],
   "source": [
    "cleaned_df = merged_df.drop(columns=['Price','review/helpfulness','profileName','review/time','review/summary','review/text'])"
   ]
  },
  {
   "cell_type": "code",
   "execution_count": 8,
   "id": "71638d96",
   "metadata": {},
   "outputs": [
    {
     "name": "stdout",
     "output_type": "stream",
     "text": [
      "<class 'pandas.core.frame.DataFrame'>\n",
      "RangeIndex: 3000000 entries, 0 to 2999999\n",
      "Data columns (total 6 columns):\n",
      " #   Column        Non-Null Count    Dtype  \n",
      "---  ------        --------------    -----  \n",
      " 0   Id            3000000 non-null  object \n",
      " 1   Title         2999792 non-null  object \n",
      " 2   User_id       2438213 non-null  object \n",
      " 3   review/score  3000000 non-null  float64\n",
      " 4   authors       2609366 non-null  object \n",
      " 5   categories    2448502 non-null  object \n",
      "dtypes: float64(1), object(5)\n",
      "memory usage: 137.3+ MB\n"
     ]
    }
   ],
   "source": [
    "cleaned_df.info(verbose=True, show_counts=True)"
   ]
  },
  {
   "cell_type": "code",
   "execution_count": null,
   "id": "b3abac99",
   "metadata": {},
   "outputs": [],
   "source": []
  }
 ],
 "metadata": {
  "kernelspec": {
   "display_name": "Python 3 (ipykernel)",
   "language": "python",
   "name": "python3"
  },
  "language_info": {
   "codemirror_mode": {
    "name": "ipython",
    "version": 3
   },
   "file_extension": ".py",
   "mimetype": "text/x-python",
   "name": "python",
   "nbconvert_exporter": "python",
   "pygments_lexer": "ipython3",
   "version": "3.11.5"
  }
 },
 "nbformat": 4,
 "nbformat_minor": 5
}
