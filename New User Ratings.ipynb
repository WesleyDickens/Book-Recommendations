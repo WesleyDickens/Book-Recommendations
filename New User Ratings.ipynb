{
 "cells": [
  {
   "cell_type": "code",
   "execution_count": 2,
   "id": "d6e35199",
   "metadata": {
    "slideshow": {
     "slide_type": "-"
    }
   },
   "outputs": [],
   "source": [
    "import torch\n",
    "import torch.nn as nn\n",
    "from sklearn.preprocessing import LabelEncoder\n",
    "from torch.utils.data import Dataset, DataLoader\n",
    "import joblib\n",
    "import pandas as pd\n",
    "import scipy.sparse as sp\n",
    "from sklearn.model_selection import train_test_split, cross_val_score\n",
    "from sklearn.linear_model import Ridge\n",
    "from sklearn.metrics import mean_squared_error, mean_absolute_error, r2_score\n",
    "from sklearn.metrics.pairwise import cosine_similarity\n",
    "import numpy as np\n",
    "\n",
    "\n",
    "cleaned_df = pd.read_csv('Model Files/cleaned_df.csv')\n",
    "device = torch.device(\"mps\" if torch.backends.mps.is_available() else \"cpu\")"
   ]
  },
  {
   "cell_type": "code",
   "execution_count": 3,
   "id": "35bc1b15",
   "metadata": {},
   "outputs": [],
   "source": [
    "def load_sparse_matrix_to_tensor(path):\n",
    "    # Load the sparse matrix from disk\n",
    "    sparse_matrix = sp.load_npz(path)\n",
    "    \n",
    "    # Convert the sparse matrix to a dense NumPy array\n",
    "    dense_array = sparse_matrix.toarray()\n",
    "    \n",
    "    # Convert the dense NumPy array to a PyTorch tensor\n",
    "    tensor = torch.tensor(dense_array, dtype=torch.float)\n",
    "    \n",
    "    return tensor\n"
   ]
  },
  {
   "cell_type": "code",
   "execution_count": 4,
   "id": "c0d81277",
   "metadata": {},
   "outputs": [],
   "source": [
    "class CollabFiltModel(nn.Module):\n",
    "    def __init__(self, num_users, num_items, emb_size=100):\n",
    "        super().__init__()\n",
    "        self.user_emb = nn.Embedding(num_users, emb_size)\n",
    "        self.item_emb = nn.Embedding(num_items, emb_size)\n",
    "    \n",
    "    def forward(self, user, item):\n",
    "        user_emb = self.user_emb(user)\n",
    "        item_emb = self.item_emb(item)\n",
    "        return (user_emb * item_emb).sum(1)\n"
   ]
  },
  {
   "cell_type": "code",
   "execution_count": 5,
   "id": "d18ead41",
   "metadata": {},
   "outputs": [],
   "source": [
    "# Initialize the model (make sure it has the same architecture)\n",
    "loaded_model = CollabFiltModel(num_users=cleaned_df['User_id'].nunique(),\n",
    "                               num_items=cleaned_df['Title'].nunique()).to(device)\n",
    "\n",
    "# Load the model state dictionary\n",
    "loaded_model.load_state_dict(torch.load('Model Files/collab_filt_model_state_dict.pth'))\n",
    "\n",
    "# Ensure to switch the model to evaluation mode\n",
    "loaded_model.eval()\n",
    "\n",
    "# Load the encoders\n",
    "user_encoder = joblib.load('Model Files/user_encoder.joblib')\n",
    "item_encoder = joblib.load('Model Files/item_encoder.joblib')"
   ]
  },
  {
   "cell_type": "code",
   "execution_count": 16,
   "id": "5baa7128",
   "metadata": {},
   "outputs": [
    {
     "name": "stdout",
     "output_type": "stream",
     "text": [
      "Please choose a genre from the following list:\n",
      "1. ['Biography & Autobiography']\n",
      "2. ['Religion']\n",
      "3. ['Fiction']\n",
      "4. ['Social Science']\n",
      "5. ['Juvenile Nonfiction']\n",
      "6. ['History']\n",
      "7. ['Political Science']\n",
      "8. ['Health & Fitness']\n",
      "9. ['Cooking']\n",
      "10. ['Philosophy']\n",
      "11. ['Sports & Recreation']\n",
      "12. ['Body, Mind & Spirit']\n",
      "13. ['Juvenile Fiction']\n",
      "14. ['Family & Relationships']\n",
      "15. ['Science']\n",
      "16. ['Business & Economics']\n",
      "17. ['Computers']\n",
      "18. ['Self-Help']\n",
      "19. ['Young Adult Fiction']\n",
      "20. All genres\n",
      "Enter the number corresponding to your choice: 5\n"
     ]
    }
   ],
   "source": [
    "loaded_model.eval()\n",
    "loaded_model.to('cpu') ## Faster\n",
    "\n",
    "# Extract item embeddings\n",
    "item_embeddings = loaded_model.item_emb.weight.data.cpu().numpy()\n",
    "\n",
    "# Filter genres to only include books with more than 20,000 examples\n",
    "filtered_df = cleaned_df[cleaned_df['categories'].isin(cleaned_df['categories'].value_counts()[cleaned_df['categories'].value_counts() > 20000].index)]\n",
    "\n",
    "unique_genres = filtered_df['categories'].unique()\n",
    "\n",
    "# Display the genres to the user\n",
    "print(\"Please choose a genre from the following list:\")\n",
    "for i, genre in enumerate(unique_genres, 1):\n",
    "    print(f\"{i}. {genre}\")\n",
    "print(\"20. All genres\")\n",
    "\n",
    "choice = int(input(\"Enter the number corresponding to your choice: \")) - 1  # Subtract 1 to match the list index\n",
    "\n",
    "# genre_choice = unique_genres[choice]\n",
    "genre_choice = cleaned_df['categories'] if choice == 19 else unique_genres[choice]"
   ]
  },
  {
   "cell_type": "code",
   "execution_count": 17,
   "id": "8fdd8d72",
   "metadata": {
    "slideshow": {
     "slide_type": "slide"
    }
   },
   "outputs": [
    {
     "name": "stdout",
     "output_type": "stream",
     "text": [
      "Rate these books 1-5\n",
      "Artistic Drawing (Creative Kids) by ['Jeanette Nyberg']: 1\n",
      "Kidding Around Kansas City by ['Lisa Harkrader', 'Suzanne Lieurance']: 4\n",
      "Italian Immigrants, 1880-1920 (Blue Earth Books: Coming to America) by ['Anne M. Todd']: 1\n",
      "Faith Facts for Young Catholics: Drills, Games and Activities for Middle School Students by ['Kieran Sawyer']: 4\n",
      "A Change of Flag by ['Martha E. H. Rustad']: 2\n"
     ]
    }
   ],
   "source": [
    "unique_df = cleaned_df[cleaned_df['categories'] == genre_choice].drop_duplicates(subset=['Title', 'authors'])\n",
    "\n",
    "sample_data = unique_df[['Title', 'authors']].sample(5)\n",
    "\n",
    "sample_titles = sample_data['Title'].to_numpy()\n",
    "sample_authors = sample_data['authors'].to_numpy()\n",
    "\n",
    "decoded_titles = item_encoder.inverse_transform(sample_titles)\n",
    "\n",
    "user_ratings = {}\n",
    "print('Rate these books 1-5')\n",
    "for title, author in zip(decoded_titles, sample_authors):\n",
    "    score = input(f'{title} by {author}: ')\n",
    "    \n",
    "    encoded_value = item_encoder.transform([title])[0]\n",
    "    \n",
    "    user_ratings[encoded_value] = float(score)\n"
   ]
  },
  {
   "cell_type": "code",
   "execution_count": 30,
   "id": "af21db82",
   "metadata": {},
   "outputs": [],
   "source": [
    "# Prepare the data for ridge regression\n",
    "rated_item_indices = list(user_ratings.keys())\n",
    "X = item_embeddings[rated_item_indices]\n",
    "y = np.array(list(user_ratings.values()))\n",
    "\n",
    "# Fit the ridge regression model\n",
    "ridge_model = Ridge(alpha=1.0)\n",
    "ridge_model.fit(X, y)\n",
    "\n",
    "# The user's \"embedding\" is approximated by the coefficients\n",
    "user_preferences = ridge_model.coef_\n"
   ]
  },
  {
   "cell_type": "code",
   "execution_count": 31,
   "id": "95162d06",
   "metadata": {},
   "outputs": [
    {
     "name": "stdout",
     "output_type": "stream",
     "text": [
      "We recommend these 5 books based on your ratings: \n",
      "1. Modern Bank Fishing\n",
      "2. The Porsche 924/944 Book (Foulis Motoring Book)\n",
      "3. Outlooks & insights on the weekly Torah portion (ArtScroll Mesorah series)\n",
      "4. The Painting in the Attic\n",
      "5. Baedeker's Austria\n"
     ]
    }
   ],
   "source": [
    "# Predict ratings for all items\n",
    "predicted_ratings = np.dot(item_embeddings, user_preferences)\n",
    "\n",
    "# Rank items by predicted rating, excluding already rated items\n",
    "recommended_indices = np.argsort(-predicted_ratings)\n",
    "top_recommendations = [index for index in recommended_indices if index not in rated_item_indices][:5]\n",
    "\n",
    "# Decode the top recommended item indices to original IDs\n",
    "top_recommended_item_ids = item_encoder.inverse_transform(top_recommendations)\n",
    "\n",
    "print(\"We recommend these 5 books based on your ratings: \")\n",
    "\n",
    "for i, book in enumerate(top_recommended_item_ids):\n",
    "    print(f\"{i+1}. {book}\")"
   ]
  },
  {
   "cell_type": "code",
   "execution_count": 32,
   "id": "fa8744a5",
   "metadata": {},
   "outputs": [
    {
     "name": "stdout",
     "output_type": "stream",
     "text": [
      "Top 10 similar movies:\n",
      "1. Beast Rising\n",
      "2. Escape from Babel: Toward a Unifying Language for Psychotherapy Practice (Norton Professional Books)\n",
      "3. Horseman's Club\n",
      "4. The tragedy of Hamlet (The student's Shakespeare)\n",
      "5. Adolescent Development Student Sg\n",
      "6. 103 Hikes in Southwestern British Columbia\n",
      "7. The Spiritual Guide of Miguel Molinos\n",
      "8. Microeconomics\n",
      "9. Planets\n",
      "10. The Privateersman\n"
     ]
    }
   ],
   "source": [
    "# Target book to find similarities\n",
    "input_title = \"Modern Bank Fishing\"\n",
    "\n",
    "movie_index = item_encoder.transform([input_title])[0]\n",
    "\n",
    "target_movie_vector = item_embeddings[movie_index].reshape(1, -1)\n",
    "\n",
    "cosine_similarities = cosine_similarity(item_embeddings, target_movie_vector).flatten()\n",
    "\n",
    "top_indices = np.argsort(-cosine_similarities)[1:11] \n",
    "\n",
    "\n",
    "index_to_movie = {i: label for i, label in enumerate(item_encoder.classes_)}\n",
    "\n",
    "# Get the titles of the top 10 similar movies\n",
    "top_movie_titles = [index_to_movie[i] for i in top_indices]\n",
    "\n",
    "print(\"Top 10 similar movies:\")\n",
    "for i, title in enumerate(top_movie_titles):\n",
    "    print(f\"{i+1}. {title}\")\n"
   ]
  },
  {
   "cell_type": "code",
   "execution_count": 34,
   "id": "4cf51ac8",
   "metadata": {},
   "outputs": [
    {
     "name": "stdout",
     "output_type": "stream",
     "text": [
      "MSE: 2.4519094298013897\n",
      "RMSE: 1.5658574104309082\n",
      "MAE: 1.5658574104309082\n"
     ]
    }
   ],
   "source": [
    "X_train, X_test, y_train, y_test = train_test_split(X, y, test_size=0.2, random_state=42)\n",
    "\n",
    "# Fit a ridge regression model\n",
    "ridge_reg = Ridge(alpha=1.0)  # alpha is the regularization strength\n",
    "ridge_reg.fit(X_train, y_train)\n",
    "\n",
    "# Predict on the testing set\n",
    "y_pred = ridge_reg.predict(X_test)\n",
    "\n",
    "# Mean Squared Error (MSE)\n",
    "mse = mean_squared_error(y_test, y_pred)\n",
    "print(f\"MSE: {mse}\")\n",
    "\n",
    "# Root Mean Squared Error (RMSE)\n",
    "rmse = np.sqrt(mse)\n",
    "print(f\"RMSE: {rmse}\")\n",
    "\n",
    "# Mean Absolute Error (MAE)\n",
    "mae = mean_absolute_error(y_test, y_pred)\n",
    "print(f\"MAE: {mae}\")"
   ]
  }
 ],
 "metadata": {
  "celltoolbar": "Slideshow",
  "kernelspec": {
   "display_name": "Python 3 (ipykernel)",
   "language": "python",
   "name": "python3"
  },
  "language_info": {
   "codemirror_mode": {
    "name": "ipython",
    "version": 3
   },
   "file_extension": ".py",
   "mimetype": "text/x-python",
   "name": "python",
   "nbconvert_exporter": "python",
   "pygments_lexer": "ipython3",
   "version": "3.11.5"
  }
 },
 "nbformat": 4,
 "nbformat_minor": 5
}
