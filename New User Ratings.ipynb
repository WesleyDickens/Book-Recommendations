{
 "cells": [
  {
   "cell_type": "code",
   "execution_count": 1,
   "id": "d6e35199",
   "metadata": {
    "slideshow": {
     "slide_type": "-"
    }
   },
   "outputs": [],
   "source": [
    "import torch\n",
    "import torch.nn as nn\n",
    "from sklearn.preprocessing import LabelEncoder\n",
    "from torch.utils.data import Dataset, DataLoader\n",
    "import joblib\n",
    "import pandas as pd\n",
    "\n",
    "cleaned_df = pd.read_csv('cleaned_df.csv')\n",
    "device = torch.device(\"mps\" if torch.backends.mps.is_available() else \"cpu\")"
   ]
  },
  {
   "cell_type": "code",
   "execution_count": 2,
   "id": "35bc1b15",
   "metadata": {},
   "outputs": [],
   "source": [
    "import scipy.sparse as sp\n",
    "import torch\n",
    "\n",
    "def load_sparse_matrix_to_tensor(path):\n",
    "    # Load the sparse matrix from disk\n",
    "    sparse_matrix = sp.load_npz(path)\n",
    "    \n",
    "    # Convert the sparse matrix to a dense NumPy array\n",
    "    dense_array = sparse_matrix.toarray()\n",
    "    \n",
    "    # Convert the dense NumPy array to a PyTorch tensor\n",
    "    tensor = torch.tensor(dense_array, dtype=torch.float)\n",
    "    \n",
    "    return tensor\n"
   ]
  },
  {
   "cell_type": "code",
   "execution_count": 3,
   "id": "c0d81277",
   "metadata": {},
   "outputs": [],
   "source": [
    "class CollabFiltModel(nn.Module):\n",
    "    def __init__(self, num_users, num_items, emb_size=100):\n",
    "        super().__init__()\n",
    "        self.user_emb = nn.Embedding(num_users, emb_size)\n",
    "        self.item_emb = nn.Embedding(num_items, emb_size)\n",
    "    \n",
    "    def forward(self, user, item):\n",
    "        user_emb = self.user_emb(user)\n",
    "        item_emb = self.item_emb(item)\n",
    "        return (user_emb * item_emb).sum(1)\n"
   ]
  },
  {
   "cell_type": "code",
   "execution_count": 4,
   "id": "d18ead41",
   "metadata": {},
   "outputs": [],
   "source": [
    "# Initialize the model (make sure it has the same architecture)\n",
    "loaded_model = CollabFiltModel(num_users=cleaned_df['User_id'].nunique(),\n",
    "                               num_items=cleaned_df['Title'].nunique()).to(device)\n",
    "\n",
    "# Load the model state dictionary\n",
    "loaded_model.load_state_dict(torch.load('collab_filt_model_state_dict.pth'))\n",
    "\n",
    "# Ensure to switch the model to evaluation mode\n",
    "loaded_model.eval()\n",
    "\n",
    "# Load the encoders\n",
    "user_encoder = joblib.load('user_encoder.joblib')\n",
    "item_encoder = joblib.load('item_encoder.joblib')"
   ]
  },
  {
   "cell_type": "code",
   "execution_count": 81,
   "id": "5baa7128",
   "metadata": {},
   "outputs": [
    {
     "name": "stdout",
     "output_type": "stream",
     "text": [
      "Please choose a genre from the following list:\n",
      "1. ['Biography & Autobiography']\n",
      "2. ['Religion']\n",
      "3. ['Fiction']\n",
      "4. ['Social Science']\n",
      "5. ['Juvenile Nonfiction']\n",
      "6. ['History']\n",
      "7. ['Political Science']\n",
      "8. ['Health & Fitness']\n",
      "9. ['Cooking']\n",
      "10. ['Philosophy']\n",
      "11. ['Sports & Recreation']\n",
      "12. ['Body, Mind & Spirit']\n",
      "13. ['Juvenile Fiction']\n",
      "14. ['Family & Relationships']\n",
      "15. ['Science']\n",
      "16. ['Business & Economics']\n",
      "17. ['Computers']\n",
      "18. ['Self-Help']\n",
      "19. ['Young Adult Fiction']\n",
      "20. All genres\n",
      "Enter the number corresponding to your choice: 1\n"
     ]
    }
   ],
   "source": [
    "loaded_model.eval()\n",
    "loaded_model.to('cpu') ## Faster\n",
    "\n",
    "# Extract item embeddings\n",
    "item_embeddings = loaded_model.item_emb.weight.data.cpu().numpy()\n",
    "\n",
    "# Filter genres to only include books with more than 20,000 examples\n",
    "filtered_df = cleaned_df[cleaned_df['categories'].isin(cleaned_df['categories'].value_counts()[cleaned_df['categories'].value_counts() > 20000].index)]\n",
    "\n",
    "unique_genres = filtered_df['categories'].unique()\n",
    "\n",
    "# Display the genres to the user\n",
    "print(\"Please choose a genre from the following list:\")\n",
    "for i, genre in enumerate(unique_genres, 1):\n",
    "    print(f\"{i}. {genre}\")\n",
    "print(\"20. All genres\")\n",
    "\n",
    "choice = int(input(\"Enter the number corresponding to your choice: \")) - 1  # Subtract 1 to match the list index\n",
    "\n",
    "# genre_choice = unique_genres[choice]\n",
    "genre_choice = cleaned_df['categories'] if choice == 19 else unique_genres[choice]"
   ]
  },
  {
   "cell_type": "code",
   "execution_count": 82,
   "id": "291ae637",
   "metadata": {},
   "outputs": [
    {
     "name": "stdout",
     "output_type": "stream",
     "text": [
      "Rate these books 1-5\n",
      "Don't Pee on My Leg and Tell Me It's Raining: America's Toughest Family Court Judge Speaks Out by ['Judy Sheindlin']: 4\n",
      "The Brute by ['Robert Coram']: 2\n",
      "Tiger Woods by ['Jeff Benedict', 'Armen Keteyian']: 3\n",
      "Benazir Bhutto: From Prison to Prime Minister by ['Libby Hughes']: 5\n",
      "Andrew Jackson and the Bank War (Norton Essays in American History) by ['Robert Vincent Remini']: 1\n",
      "Hammerhead 84: A Memoir of Persistence by ['Brett Hartman']: 5\n",
      "Muscletown USA: Bob Hoffman and the Manly Culture of York Barbell by ['John D. Fair']: 3\n",
      "The Unquiet Grave by ['Cyril Connolly']: 2\n",
      "Playboy Adult Magazine:May 2005 by ['Hugh M. Hefner', 'Bill Zehme']: 4\n",
      "The Johnny Unitas Story by ['Tom Callahan']: 5\n"
     ]
    }
   ],
   "source": [
    "unique_df = cleaned_df[cleaned_df['categories'] == genre_choice].drop_duplicates(subset=['Title', 'authors'])\n",
    "\n",
    "sample_data = unique_df[['Title', 'authors']].sample(10)\n",
    "\n",
    "sample_titles = sample_data['Title'].to_numpy()\n",
    "sample_authors = sample_data['authors'].to_numpy()\n",
    "\n",
    "decoded_titles = item_encoder.inverse_transform(sample_titles)\n",
    "\n",
    "user_ratings = {}\n",
    "print('Rate these books 1-5')\n",
    "for title, author in zip(decoded_titles, sample_authors):\n",
    "    score = input(f'{title} by {author}: ')\n",
    "    \n",
    "    encoded_value = item_encoder.transform([title])[0]\n",
    "    \n",
    "    user_ratings[encoded_value] = float(score)\n"
   ]
  },
  {
   "cell_type": "code",
   "execution_count": 93,
   "id": "3b603dad",
   "metadata": {},
   "outputs": [],
   "source": [
    "from sklearn.linear_model import Ridge\n",
    "import numpy as np\n",
    "\n",
    "# Prepare the data for ridge regression\n",
    "rated_item_indices = list(user_ratings.keys())\n",
    "X = item_embeddings[rated_item_indices]\n",
    "y = np.array(list(user_ratings.values()))\n",
    "\n",
    "# Fit the ridge regression model\n",
    "ridge_model = Ridge(alpha=1.0)\n",
    "ridge_model.fit(X, y)\n",
    "\n",
    "# The user's \"embedding\" is approximated by the coefficients\n",
    "user_preferences = ridge_model.coef_\n"
   ]
  },
  {
   "cell_type": "code",
   "execution_count": 94,
   "id": "95162d06",
   "metadata": {},
   "outputs": [
    {
     "name": "stdout",
     "output_type": "stream",
     "text": [
      "We recommend these 5 books based on your ratings: \n",
      "1. The Ring of Thoth and Other Tales\n",
      "2. The Ardennes: Battle of the Bulge (CMH Pub)\n",
      "3. Twenty Very Easy and Melodious Studies for the Piano (Schirmer's Library of Musical Classics, 478)\n",
      "4. Searching for Answers: The Unquenchable Thirst\n",
      "5. Act Of Courage- Cassette\n"
     ]
    }
   ],
   "source": [
    "# Predict ratings for all items\n",
    "predicted_ratings = np.dot(item_embeddings, user_preferences)\n",
    "\n",
    "# Rank items by predicted rating, excluding already rated items\n",
    "recommended_indices = np.argsort(-predicted_ratings)\n",
    "top_recommendations = [index for index in recommended_indices if index not in rated_item_indices][:5]\n",
    "\n",
    "# Decode the top recommended item indices to original IDs\n",
    "top_recommended_item_ids = item_encoder.inverse_transform(top_recommendations)\n",
    "\n",
    "print(\"We recommend these 5 books based on your ratings: \")\n",
    "\n",
    "for i, book in enumerate(top_recommended_item_ids):\n",
    "    print(f\"{i+1}. {book}\")"
   ]
  },
  {
   "cell_type": "code",
   "execution_count": 85,
   "id": "19fd1830",
   "metadata": {},
   "outputs": [
    {
     "name": "stdout",
     "output_type": "stream",
     "text": [
      "R² Score: -0.4489687663336781\n",
      "MSE: 1.448968766333678\n",
      "RMSE: 1.2037311852459742\n",
      "MAE: 1.107757806777954\n",
      "Adjusted R²: 1.0146360481447847\n",
      "Cross-Validation Scores: [-0.45503469 -0.85990075  0.13558684 -2.94845422 -4.55708006]\n",
      "Average CV Score: -1.7369765782711426\n"
     ]
    }
   ],
   "source": [
    "from sklearn.model_selection import train_test_split\n",
    "from sklearn.linear_model import Ridge\n",
    "from sklearn.metrics import mean_squared_error, mean_absolute_error, r2_score\n",
    "from sklearn.model_selection import cross_val_score\n",
    "\n",
    "X_train, X_test, y_train, y_test = train_test_split(X, y, test_size=0.2, random_state=42)\n",
    "\n",
    "# Fit a ridge regression model\n",
    "ridge_reg = Ridge(alpha=1.0)  # alpha is the regularization strength\n",
    "ridge_reg.fit(X_train, y_train)\n",
    "\n",
    "# Predict on the testing set\n",
    "y_pred = ridge_reg.predict(X_test)\n",
    "\n",
    "# R² Score\n",
    "r2 = r2_score(y_test, y_pred)\n",
    "print(f\"R² Score: {r2}\")\n",
    "\n",
    "# Mean Squared Error (MSE)\n",
    "mse = mean_squared_error(y_test, y_pred)\n",
    "print(f\"MSE: {mse}\")\n",
    "\n",
    "# Root Mean Squared Error (RMSE)\n",
    "rmse = np.sqrt(mse)\n",
    "print(f\"RMSE: {rmse}\")\n",
    "\n",
    "# Mean Absolute Error (MAE)\n",
    "mae = mean_absolute_error(y_test, y_pred)\n",
    "print(f\"MAE: {mae}\")\n",
    "\n",
    "# Adjusted R² Score\n",
    "n = X_test.shape[0]  # Number of observations\n",
    "p = X_test.shape[1]  # Number of features\n",
    "adj_r2 = 1-(1-r2)*(n-1)/(n-p-1)\n",
    "print(f\"Adjusted R²: {adj_r2}\")\n",
    "\n",
    "# Cross-Validation Score (using R² as the score by default)\n",
    "cv_scores = cross_val_score(ridge_reg, X, y, cv=5)  # 5-fold cross-validation\n",
    "print(f\"Cross-Validation Scores: {cv_scores}\")\n",
    "print(f\"Average CV Score: {np.mean(cv_scores)}\")"
   ]
  },
  {
   "cell_type": "code",
   "execution_count": 90,
   "id": "a7833806",
   "metadata": {},
   "outputs": [
    {
     "name": "stdout",
     "output_type": "stream",
     "text": [
      "Top 10 similar movies:\n",
      "1. The New Testament basis of pacifism and The relevance of an impossible ideal\n",
      "2. A Stroke Of Luck (Signet Regency Romance)\n",
      "3. Pepper\n",
      "4. Forbidden Films: Censorship Histories of 125 Motion Pictures (Facts on File Library of World Literature)\n",
      "5. War Despatches: Indo-Pakistan Conflict, 1965\n",
      "6. The Traffic-Accident Investigation Manual: At-Scene Investigation and Technical Follow-Up\n",
      "7. Wack Water Fun with Science\n",
      "8. Dominick Dunne: Three Complete Novels- The Two Mrs. Grenvilles / People Like Us / An Inconvenient Woman\n",
      "9. The Mystical Life of Jesus (Rosicrucian Library, Vol. III)\n",
      "10. The Tempest (Arkangel Complete Shakespeare)\n"
     ]
    }
   ],
   "source": [
    "from sklearn.metrics.pairwise import cosine_similarity\n",
    "import numpy as np\n",
    "\n",
    "\n",
    "input_title = \"The Adventures of Bob White.\"\n",
    "\n",
    "movie_index = item_encoder.transform([input_title])[0]\n",
    "\n",
    "target_movie_vector = item_embeddings[movie_index].reshape(1, -1)\n",
    "\n",
    "cosine_similarities = cosine_similarity(item_embeddings, target_movie_vector).flatten()\n",
    "\n",
    "top_indices = np.argsort(-cosine_similarities)[1:11] \n",
    "\n",
    "\n",
    "index_to_movie = {i: label for i, label in enumerate(item_encoder.classes_)}\n",
    "\n",
    "# Get the titles of the top 10 similar movies\n",
    "top_movie_titles = [index_to_movie[i] for i in top_indices]\n",
    "\n",
    "print(\"Top 10 similar movies:\")\n",
    "for i, title in enumerate(top_movie_titles):\n",
    "    print(f\"{i+1}. {title}\")\n"
   ]
  },
  {
   "cell_type": "code",
   "execution_count": null,
   "id": "2596f19a",
   "metadata": {},
   "outputs": [],
   "source": []
  }
 ],
 "metadata": {
  "kernelspec": {
   "display_name": "Python 3 (ipykernel)",
   "language": "python",
   "name": "python3"
  },
  "language_info": {
   "codemirror_mode": {
    "name": "ipython",
    "version": 3
   },
   "file_extension": ".py",
   "mimetype": "text/x-python",
   "name": "python",
   "nbconvert_exporter": "python",
   "pygments_lexer": "ipython3",
   "version": "3.11.5"
  }
 },
 "nbformat": 4,
 "nbformat_minor": 5
}
